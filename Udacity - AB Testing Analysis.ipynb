{
 "cells": [
  {
   "cell_type": "markdown",
   "id": "2e51a2b1",
   "metadata": {},
   "source": [
    "# Load Data"
   ]
  },
  {
   "cell_type": "code",
   "execution_count": 10,
   "id": "d9a25779",
   "metadata": {},
   "outputs": [],
   "source": [
    "import pandas as pd\n",
    "import math"
   ]
  },
  {
   "cell_type": "code",
   "execution_count": 2,
   "id": "d9a980c0",
   "metadata": {},
   "outputs": [],
   "source": [
    "df = pd.read_excel('Analysis.xlsx', sheet_name='Data')"
   ]
  },
  {
   "cell_type": "code",
   "execution_count": 3,
   "id": "58ba27c4",
   "metadata": {},
   "outputs": [
    {
     "name": "stdout",
     "output_type": "stream",
     "text": [
      "<class 'pandas.core.frame.DataFrame'>\n",
      "RangeIndex: 74 entries, 0 to 73\n",
      "Data columns (total 6 columns):\n",
      " #   Column       Non-Null Count  Dtype  \n",
      "---  ------       --------------  -----  \n",
      " 0   Group        74 non-null     object \n",
      " 1   Date         74 non-null     object \n",
      " 2   Pageviews    74 non-null     int64  \n",
      " 3   Clicks       74 non-null     int64  \n",
      " 4   Enrollments  46 non-null     float64\n",
      " 5   Payments     46 non-null     float64\n",
      "dtypes: float64(2), int64(2), object(2)\n",
      "memory usage: 3.6+ KB\n"
     ]
    }
   ],
   "source": [
    "df.info()"
   ]
  },
  {
   "cell_type": "code",
   "execution_count": 4,
   "id": "36c81f06",
   "metadata": {},
   "outputs": [
    {
     "data": {
      "text/html": [
       "<div>\n",
       "<style scoped>\n",
       "    .dataframe tbody tr th:only-of-type {\n",
       "        vertical-align: middle;\n",
       "    }\n",
       "\n",
       "    .dataframe tbody tr th {\n",
       "        vertical-align: top;\n",
       "    }\n",
       "\n",
       "    .dataframe thead th {\n",
       "        text-align: right;\n",
       "    }\n",
       "</style>\n",
       "<table border=\"1\" class=\"dataframe\">\n",
       "  <thead>\n",
       "    <tr style=\"text-align: right;\">\n",
       "      <th></th>\n",
       "      <th>Group</th>\n",
       "      <th>Date</th>\n",
       "      <th>Pageviews</th>\n",
       "      <th>Clicks</th>\n",
       "      <th>Enrollments</th>\n",
       "      <th>Payments</th>\n",
       "    </tr>\n",
       "  </thead>\n",
       "  <tbody>\n",
       "    <tr>\n",
       "      <th>0</th>\n",
       "      <td>Experiment</td>\n",
       "      <td>Sat, Oct 11</td>\n",
       "      <td>7716</td>\n",
       "      <td>686</td>\n",
       "      <td>105.0</td>\n",
       "      <td>34.0</td>\n",
       "    </tr>\n",
       "    <tr>\n",
       "      <th>1</th>\n",
       "      <td>Experiment</td>\n",
       "      <td>Sun, Oct 12</td>\n",
       "      <td>9288</td>\n",
       "      <td>785</td>\n",
       "      <td>116.0</td>\n",
       "      <td>91.0</td>\n",
       "    </tr>\n",
       "    <tr>\n",
       "      <th>2</th>\n",
       "      <td>Experiment</td>\n",
       "      <td>Mon, Oct 13</td>\n",
       "      <td>10480</td>\n",
       "      <td>884</td>\n",
       "      <td>145.0</td>\n",
       "      <td>79.0</td>\n",
       "    </tr>\n",
       "    <tr>\n",
       "      <th>3</th>\n",
       "      <td>Experiment</td>\n",
       "      <td>Tue, Oct 14</td>\n",
       "      <td>9867</td>\n",
       "      <td>827</td>\n",
       "      <td>138.0</td>\n",
       "      <td>92.0</td>\n",
       "    </tr>\n",
       "    <tr>\n",
       "      <th>4</th>\n",
       "      <td>Experiment</td>\n",
       "      <td>Wed, Oct 15</td>\n",
       "      <td>9793</td>\n",
       "      <td>832</td>\n",
       "      <td>140.0</td>\n",
       "      <td>94.0</td>\n",
       "    </tr>\n",
       "  </tbody>\n",
       "</table>\n",
       "</div>"
      ],
      "text/plain": [
       "        Group         Date  Pageviews  Clicks  Enrollments  Payments\n",
       "0  Experiment  Sat, Oct 11       7716     686        105.0      34.0\n",
       "1  Experiment  Sun, Oct 12       9288     785        116.0      91.0\n",
       "2  Experiment  Mon, Oct 13      10480     884        145.0      79.0\n",
       "3  Experiment  Tue, Oct 14       9867     827        138.0      92.0\n",
       "4  Experiment  Wed, Oct 15       9793     832        140.0      94.0"
      ]
     },
     "execution_count": 4,
     "metadata": {},
     "output_type": "execute_result"
    }
   ],
   "source": [
    "df.head()"
   ]
  },
  {
   "cell_type": "markdown",
   "id": "396b96ce",
   "metadata": {},
   "source": [
    "# Sanity Checks"
   ]
  },
  {
   "cell_type": "code",
   "execution_count": 21,
   "id": "dea459b2",
   "metadata": {},
   "outputs": [],
   "source": [
    "def calc_sanity(metric):\n",
    "    control_sum = df[df['Group']=='Control'][metric].sum()\n",
    "    experiment_sum = df[df['Group']=='Experiment'][metric].sum()\n",
    "    SD = math.sqrt(0.5*0.5/(control_sum+experiment_sum))\n",
    "    m = SD * 1.96\n",
    "    CI_LB = 0.5 - m\n",
    "    CI_UB = 0.5 + m\n",
    "    print(\"CI 95%: [\" + str(round(CI_LB,4)) + \" - \" + str(round(CI_UB,4)) + \"]\")\n",
    "    observed_fraction = control_sum / (control_sum + experiment_sum)\n",
    "    print(\"Observed fraction: \"+ str(round(observed_fraction,4)))"
   ]
  },
  {
   "cell_type": "code",
   "execution_count": 22,
   "id": "7b9e25e7",
   "metadata": {},
   "outputs": [
    {
     "name": "stdout",
     "output_type": "stream",
     "text": [
      "CI 95%: [0.4988 - 0.5012]\n",
      "Observed fraction: 0.5006\n"
     ]
    }
   ],
   "source": [
    "calc_sanity('Pageviews')"
   ]
  },
  {
   "cell_type": "code",
   "execution_count": 23,
   "id": "6bb23d8a",
   "metadata": {},
   "outputs": [
    {
     "name": "stdout",
     "output_type": "stream",
     "text": [
      "CI 95%: [0.4959 - 0.5041]\n",
      "Observed fraction: 0.5005\n"
     ]
    }
   ],
   "source": [
    "calc_sanity('Clicks')"
   ]
  },
  {
   "cell_type": "code",
   "execution_count": 52,
   "id": "874670b3",
   "metadata": {},
   "outputs": [],
   "source": [
    "def compare_two_samples(X, N):\n",
    "    X_cont = df[df['Group']=='Control'][X].sum()\n",
    "    N_cont = df[df['Group']=='Control'][N].sum()\n",
    "    X_exp = df[df['Group']=='Experiment'][X].sum()\n",
    "    N_exp = df[df['Group']=='Experiment'][N].sum()\n",
    "\n",
    "    p_cont = X_cont/N_cont\n",
    "    p_exp = X_exp/N_exp\n",
    "    p_pool = (X_cont+X_exp)/(N_cont+N_exp)\n",
    "    SE_pool = math.sqrt(p_pool*(1-p_pool)*(1/N_cont + 1/N_exp))\n",
    "    CI_LB = -1 * SE_pool * 1.96\n",
    "    CI_UB = SE_pool * 1.96\n",
    "    d_hat = p_exp - p_cont\n",
    "\n",
    "    print(\"CI 95%: [\" + str(round(CI_LB,4)) + \" - \" + str(round(CI_UB,4)) + \"]\")\n",
    "    print(\"Observed difference: \"+ str(round(d_hat,4)))"
   ]
  },
  {
   "cell_type": "code",
   "execution_count": 36,
   "id": "87c82553",
   "metadata": {},
   "outputs": [
    {
     "name": "stdout",
     "output_type": "stream",
     "text": [
      "CI 95%: [-0.0013 - 0.0013]\n",
      "Observed difference: 0.0001\n"
     ]
    }
   ],
   "source": [
    "X = 'Clicks'\n",
    "N = 'Pageviews'\n",
    "\n",
    "compare_two_samples('Clicks', 'Pageviews')"
   ]
  },
  {
   "cell_type": "markdown",
   "id": "544e27d0",
   "metadata": {},
   "source": [
    "For all 3 invariant metrics, the observed fraction/difference falls within the 95% confidence intervals. Therefore, the invariant sanity checks pass."
   ]
  },
  {
   "cell_type": "markdown",
   "id": "c95cd01f",
   "metadata": {},
   "source": [
    "# Check for Practical and Statistical Significance"
   ]
  },
  {
   "cell_type": "markdown",
   "id": "ef19d00f",
   "metadata": {},
   "source": [
    "Gross Conversion (GC) = # enrolled in free trial / # who clicked start free trial"
   ]
  },
  {
   "cell_type": "code",
   "execution_count": 37,
   "id": "0a7fe674",
   "metadata": {},
   "outputs": [],
   "source": [
    "df = df.dropna()"
   ]
  },
  {
   "cell_type": "code",
   "execution_count": 112,
   "id": "5b1ba31a",
   "metadata": {
    "scrolled": false
   },
   "outputs": [
    {
     "name": "stdout",
     "output_type": "stream",
     "text": [
      "<class 'pandas.core.frame.DataFrame'>\n",
      "Index: 47 entries, 0 to total\n",
      "Data columns (total 9 columns):\n",
      " #   Column       Non-Null Count  Dtype  \n",
      "---  ------       --------------  -----  \n",
      " 0   Group        46 non-null     object \n",
      " 1   Date         46 non-null     object \n",
      " 2   Pageviews    47 non-null     float64\n",
      " 3   Clicks       47 non-null     float64\n",
      " 4   Enrollments  47 non-null     float64\n",
      " 5   Payments     47 non-null     float64\n",
      " 6   GC           47 non-null     float64\n",
      " 7   NC           47 non-null     float64\n",
      " 8   Ret          47 non-null     float64\n",
      "dtypes: float64(7), object(2)\n",
      "memory usage: 4.7+ KB\n"
     ]
    }
   ],
   "source": [
    "df.info()"
   ]
  },
  {
   "cell_type": "code",
   "execution_count": 64,
   "id": "77e0e11e",
   "metadata": {},
   "outputs": [],
   "source": [
    "def analyze_results(X, N):\n",
    "    X_cont = df[df['Group']=='Control'][X].sum()\n",
    "    N_cont = df[df['Group']=='Control'][N].sum()\n",
    "    X_exp = df[df['Group']=='Experiment'][X].sum()\n",
    "    N_exp = df[df['Group']=='Experiment'][N].sum()\n",
    "\n",
    "    p_cont = X_cont/N_cont\n",
    "    p_exp = X_exp/N_exp\n",
    "    p_pool = (X_cont+X_exp)/(N_cont+N_exp)\n",
    "    SE_pool = math.sqrt(p_pool*(1-p_pool)*(1/N_cont + 1/N_exp))\n",
    "    d_hat = p_exp - p_cont\n",
    "    CI_LB = -1 * SE_pool * 1.96 + d_hat\n",
    "    CI_UB = SE_pool * 1.96 + d_hat\n",
    "\n",
    "    print(\"CI 95%: [\" + str(round(CI_LB,4)) + \" - \" + str(round(CI_UB,4)) + \"]\")\n",
    "    print(\"Observed difference: \", round(d_hat,4))"
   ]
  },
  {
   "cell_type": "code",
   "execution_count": 65,
   "id": "337a1e01",
   "metadata": {},
   "outputs": [
    {
     "name": "stdout",
     "output_type": "stream",
     "text": [
      "CI 95%: [-0.0291 - -0.012]\n",
      "Observed difference:  -0.0206\n"
     ]
    }
   ],
   "source": [
    "analyze_results('Enrollments', 'Clicks')"
   ]
  },
  {
   "cell_type": "markdown",
   "id": "df699b36",
   "metadata": {},
   "source": [
    "For Gross Conversions, the CI doesn't include 0, therefore it is statistically significant. However, it the result shows that the control was better than the experiment group since it is negative."
   ]
  },
  {
   "cell_type": "markdown",
   "id": "3f9eb685",
   "metadata": {},
   "source": [
    "Net conversion (NC) = # paid / # clicked start free trial"
   ]
  },
  {
   "cell_type": "code",
   "execution_count": 66,
   "id": "c47766c2",
   "metadata": {},
   "outputs": [
    {
     "name": "stdout",
     "output_type": "stream",
     "text": [
      "CI 95%: [-0.0116 - 0.0019]\n",
      "Observed difference:  -0.0049\n"
     ]
    }
   ],
   "source": [
    "analyze_results('Payments', 'Clicks')"
   ]
  },
  {
   "cell_type": "markdown",
   "id": "98670a06",
   "metadata": {},
   "source": [
    "For Net Conversions, the CI includes 0, therefore it is not statistically significant"
   ]
  },
  {
   "cell_type": "markdown",
   "id": "bdd33e21",
   "metadata": {},
   "source": [
    "Retention (R): # paid / # enrolled in free trial"
   ]
  },
  {
   "cell_type": "code",
   "execution_count": 67,
   "id": "fb9cb953",
   "metadata": {},
   "outputs": [
    {
     "name": "stdout",
     "output_type": "stream",
     "text": [
      "CI 95%: [0.0081 - 0.0541]\n",
      "Observed difference:  0.0311\n"
     ]
    }
   ],
   "source": [
    "analyze_results('Payments', 'Enrollments')"
   ]
  },
  {
   "cell_type": "markdown",
   "id": "bb047277",
   "metadata": {},
   "source": [
    "For Retention, the CI does not include 0, therefore it is statistically significant. For retention, dmin is 0.01, which is whin the 95% CI. Typically, this means to run additional tests since the CI needs to be above the dmin to launch."
   ]
  },
  {
   "cell_type": "markdown",
   "id": "1895843e",
   "metadata": {},
   "source": [
    "# Run Sign Tests"
   ]
  },
  {
   "cell_type": "code",
   "execution_count": 114,
   "id": "499b8322",
   "metadata": {},
   "outputs": [],
   "source": [
    "from scipy import stats"
   ]
  },
  {
   "cell_type": "code",
   "execution_count": 100,
   "id": "438b6840",
   "metadata": {},
   "outputs": [],
   "source": [
    "df['GC'] = df['Enrollments']/df['Clicks']\n",
    "df['NC'] = df['Payments']/df['Clicks']\n",
    "df['Ret'] = df['Payments']/df['Enrollments']"
   ]
  },
  {
   "cell_type": "code",
   "execution_count": 108,
   "id": "656a92d9",
   "metadata": {},
   "outputs": [],
   "source": [
    "def sign_test(metric):\n",
    "    df1 = df[df['Group']=='Control'][['Date', metric]]\n",
    "    df1.set_index(['Date'], inplace=True)\n",
    "    df2 = df[df['Group']=='Experiment'][['Date', metric]]\n",
    "    df2.set_index(['Date'], inplace=True)\n",
    "    df3 = pd.concat([df2, df1], axis = 1)\n",
    "    df3.columns = [metric + '_exp', metric + '_cont']\n",
    "    df3[metric + '_diff'] = df3[metric + '_exp']-df3[metric + '_cont']\n",
    "    print(len(df3[df3[metric + '_diff']>0]), \"days where the experiment was higher than the control\")\n",
    "    print(stats.binom_test(len(df3[df3[metric + '_diff']>0]), n=len(df3), p=0.5, alternative='two-sided'))"
   ]
  },
  {
   "cell_type": "code",
   "execution_count": 109,
   "id": "968c81b8",
   "metadata": {},
   "outputs": [
    {
     "name": "stdout",
     "output_type": "stream",
     "text": [
      "4 days where the experiment was higher than the control\n",
      "0.002599477767944336\n"
     ]
    }
   ],
   "source": [
    "sign_test('GC')"
   ]
  },
  {
   "cell_type": "markdown",
   "id": "a060bebd",
   "metadata": {},
   "source": [
    "P value < 0.05, therefore this result is unlikely due to chance. Changes with GC significant."
   ]
  },
  {
   "cell_type": "code",
   "execution_count": 110,
   "id": "a8029ad5",
   "metadata": {},
   "outputs": [
    {
     "name": "stdout",
     "output_type": "stream",
     "text": [
      "10 days where the experiment was higher than the control\n",
      "0.6776394844055176\n"
     ]
    }
   ],
   "source": [
    "sign_test('NC')"
   ]
  },
  {
   "cell_type": "markdown",
   "id": "ae29dee7",
   "metadata": {},
   "source": [
    "P value > 0.05, therefore this result is likely due to chance. Changes with NC not significant"
   ]
  },
  {
   "cell_type": "code",
   "execution_count": 115,
   "id": "1c48c388",
   "metadata": {},
   "outputs": [
    {
     "name": "stdout",
     "output_type": "stream",
     "text": [
      "13 days where the experiment was higher than the control\n",
      "0.6776394844055176\n"
     ]
    }
   ],
   "source": [
    "sign_test('Ret')"
   ]
  },
  {
   "cell_type": "markdown",
   "id": "9a62d4c2",
   "metadata": {},
   "source": [
    "P value > 0.05, therefore this result is likely due to chance. Changes with Ret not significant"
   ]
  },
  {
   "cell_type": "code",
   "execution_count": 116,
   "id": "e92b55a1",
   "metadata": {},
   "outputs": [
    {
     "data": {
      "text/html": [
       "<div>\n",
       "<style scoped>\n",
       "    .dataframe tbody tr th:only-of-type {\n",
       "        vertical-align: middle;\n",
       "    }\n",
       "\n",
       "    .dataframe tbody tr th {\n",
       "        vertical-align: top;\n",
       "    }\n",
       "\n",
       "    .dataframe thead th {\n",
       "        text-align: right;\n",
       "    }\n",
       "</style>\n",
       "<table border=\"1\" class=\"dataframe\">\n",
       "  <thead>\n",
       "    <tr style=\"text-align: right;\">\n",
       "      <th></th>\n",
       "      <th>GC_exp</th>\n",
       "      <th>GC_cont</th>\n",
       "      <th>GC_diff</th>\n",
       "    </tr>\n",
       "    <tr>\n",
       "      <th>Date</th>\n",
       "      <th></th>\n",
       "      <th></th>\n",
       "      <th></th>\n",
       "    </tr>\n",
       "  </thead>\n",
       "  <tbody>\n",
       "    <tr>\n",
       "      <th>Sat, Oct 11</th>\n",
       "      <td>0.153061</td>\n",
       "      <td>0.195051</td>\n",
       "      <td>-0.041990</td>\n",
       "    </tr>\n",
       "    <tr>\n",
       "      <th>Sun, Oct 12</th>\n",
       "      <td>0.147771</td>\n",
       "      <td>0.188703</td>\n",
       "      <td>-0.040933</td>\n",
       "    </tr>\n",
       "    <tr>\n",
       "      <th>Mon, Oct 13</th>\n",
       "      <td>0.164027</td>\n",
       "      <td>0.183718</td>\n",
       "      <td>-0.019691</td>\n",
       "    </tr>\n",
       "    <tr>\n",
       "      <th>Tue, Oct 14</th>\n",
       "      <td>0.166868</td>\n",
       "      <td>0.186603</td>\n",
       "      <td>-0.019735</td>\n",
       "    </tr>\n",
       "    <tr>\n",
       "      <th>Wed, Oct 15</th>\n",
       "      <td>0.168269</td>\n",
       "      <td>0.194743</td>\n",
       "      <td>-0.026474</td>\n",
       "    </tr>\n",
       "    <tr>\n",
       "      <th>Thu, Oct 16</th>\n",
       "      <td>0.163706</td>\n",
       "      <td>0.167679</td>\n",
       "      <td>-0.003974</td>\n",
       "    </tr>\n",
       "    <tr>\n",
       "      <th>Fri, Oct 17</th>\n",
       "      <td>0.162821</td>\n",
       "      <td>0.195187</td>\n",
       "      <td>-0.032367</td>\n",
       "    </tr>\n",
       "    <tr>\n",
       "      <th>Sat, Oct 18</th>\n",
       "      <td>0.144172</td>\n",
       "      <td>0.174051</td>\n",
       "      <td>-0.029879</td>\n",
       "    </tr>\n",
       "    <tr>\n",
       "      <th>Sun, Oct 19</th>\n",
       "      <td>0.172166</td>\n",
       "      <td>0.189580</td>\n",
       "      <td>-0.017414</td>\n",
       "    </tr>\n",
       "    <tr>\n",
       "      <th>Mon, Oct 20</th>\n",
       "      <td>0.177907</td>\n",
       "      <td>0.191638</td>\n",
       "      <td>-0.013731</td>\n",
       "    </tr>\n",
       "    <tr>\n",
       "      <th>Tue, Oct 21</th>\n",
       "      <td>0.165509</td>\n",
       "      <td>0.226067</td>\n",
       "      <td>-0.060558</td>\n",
       "    </tr>\n",
       "    <tr>\n",
       "      <th>Wed, Oct 22</th>\n",
       "      <td>0.159800</td>\n",
       "      <td>0.193317</td>\n",
       "      <td>-0.033517</td>\n",
       "    </tr>\n",
       "    <tr>\n",
       "      <th>Thu, Oct 23</th>\n",
       "      <td>0.190031</td>\n",
       "      <td>0.190977</td>\n",
       "      <td>-0.000946</td>\n",
       "    </tr>\n",
       "    <tr>\n",
       "      <th>Fri, Oct 24</th>\n",
       "      <td>0.278336</td>\n",
       "      <td>0.326895</td>\n",
       "      <td>-0.048559</td>\n",
       "    </tr>\n",
       "    <tr>\n",
       "      <th>Sat, Oct 25</th>\n",
       "      <td>0.189836</td>\n",
       "      <td>0.254703</td>\n",
       "      <td>-0.064868</td>\n",
       "    </tr>\n",
       "    <tr>\n",
       "      <th>Sun, Oct 26</th>\n",
       "      <td>0.220779</td>\n",
       "      <td>0.227401</td>\n",
       "      <td>-0.006622</td>\n",
       "    </tr>\n",
       "    <tr>\n",
       "      <th>Mon, Oct 27</th>\n",
       "      <td>0.276265</td>\n",
       "      <td>0.306983</td>\n",
       "      <td>-0.030718</td>\n",
       "    </tr>\n",
       "    <tr>\n",
       "      <th>Tue, Oct 28</th>\n",
       "      <td>0.220109</td>\n",
       "      <td>0.209239</td>\n",
       "      <td>0.010870</td>\n",
       "    </tr>\n",
       "    <tr>\n",
       "      <th>Wed, Oct 29</th>\n",
       "      <td>0.276479</td>\n",
       "      <td>0.265223</td>\n",
       "      <td>0.011255</td>\n",
       "    </tr>\n",
       "    <tr>\n",
       "      <th>Thu, Oct 30</th>\n",
       "      <td>0.284341</td>\n",
       "      <td>0.227520</td>\n",
       "      <td>0.056820</td>\n",
       "    </tr>\n",
       "    <tr>\n",
       "      <th>Fri, Oct 31</th>\n",
       "      <td>0.252078</td>\n",
       "      <td>0.246459</td>\n",
       "      <td>0.005619</td>\n",
       "    </tr>\n",
       "    <tr>\n",
       "      <th>Sat, Nov 1</th>\n",
       "      <td>0.204317</td>\n",
       "      <td>0.229075</td>\n",
       "      <td>-0.024758</td>\n",
       "    </tr>\n",
       "    <tr>\n",
       "      <th>Sun, Nov 2</th>\n",
       "      <td>0.251381</td>\n",
       "      <td>0.297258</td>\n",
       "      <td>-0.045877</td>\n",
       "    </tr>\n",
       "  </tbody>\n",
       "</table>\n",
       "</div>"
      ],
      "text/plain": [
       "               GC_exp   GC_cont   GC_diff\n",
       "Date                                     \n",
       "Sat, Oct 11  0.153061  0.195051 -0.041990\n",
       "Sun, Oct 12  0.147771  0.188703 -0.040933\n",
       "Mon, Oct 13  0.164027  0.183718 -0.019691\n",
       "Tue, Oct 14  0.166868  0.186603 -0.019735\n",
       "Wed, Oct 15  0.168269  0.194743 -0.026474\n",
       "Thu, Oct 16  0.163706  0.167679 -0.003974\n",
       "Fri, Oct 17  0.162821  0.195187 -0.032367\n",
       "Sat, Oct 18  0.144172  0.174051 -0.029879\n",
       "Sun, Oct 19  0.172166  0.189580 -0.017414\n",
       "Mon, Oct 20  0.177907  0.191638 -0.013731\n",
       "Tue, Oct 21  0.165509  0.226067 -0.060558\n",
       "Wed, Oct 22  0.159800  0.193317 -0.033517\n",
       "Thu, Oct 23  0.190031  0.190977 -0.000946\n",
       "Fri, Oct 24  0.278336  0.326895 -0.048559\n",
       "Sat, Oct 25  0.189836  0.254703 -0.064868\n",
       "Sun, Oct 26  0.220779  0.227401 -0.006622\n",
       "Mon, Oct 27  0.276265  0.306983 -0.030718\n",
       "Tue, Oct 28  0.220109  0.209239  0.010870\n",
       "Wed, Oct 29  0.276479  0.265223  0.011255\n",
       "Thu, Oct 30  0.284341  0.227520  0.056820\n",
       "Fri, Oct 31  0.252078  0.246459  0.005619\n",
       "Sat, Nov 1   0.204317  0.229075 -0.024758\n",
       "Sun, Nov 2   0.251381  0.297258 -0.045877"
      ]
     },
     "execution_count": 116,
     "metadata": {},
     "output_type": "execute_result"
    }
   ],
   "source": [
    "df3"
   ]
  }
 ],
 "metadata": {
  "kernelspec": {
   "display_name": "Python 3 (ipykernel)",
   "language": "python",
   "name": "python3"
  },
  "language_info": {
   "codemirror_mode": {
    "name": "ipython",
    "version": 3
   },
   "file_extension": ".py",
   "mimetype": "text/x-python",
   "name": "python",
   "nbconvert_exporter": "python",
   "pygments_lexer": "ipython3",
   "version": "3.9.7"
  }
 },
 "nbformat": 4,
 "nbformat_minor": 5
}
